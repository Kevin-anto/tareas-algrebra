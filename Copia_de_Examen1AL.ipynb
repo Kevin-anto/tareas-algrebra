{
  "nbformat": 4,
  "nbformat_minor": 0,
  "metadata": {
    "colab": {
      "provenance": [],
      "include_colab_link": true
    },
    "kernelspec": {
      "name": "python3",
      "display_name": "Python 3"
    },
    "language_info": {
      "name": "python"
    }
  },
  "cells": [
    {
      "cell_type": "markdown",
      "metadata": {
        "id": "view-in-github",
        "colab_type": "text"
      },
      "source": [
        "<a href=\"https://colab.research.google.com/github/Kevin-anto/tareas-algrebra/blob/main/Copia_de_Examen1AL.ipynb\" target=\"_parent\"><img src=\"https://colab.research.google.com/assets/colab-badge.svg\" alt=\"Open In Colab\"/></a>"
      ]
    },
    {
      "cell_type": "markdown",
      "source": [
        "## Algebra Lineal\n",
        "\n",
        "### 1er examen parcial"
      ],
      "metadata": {
        "id": "m93nhBA98vRW"
      }
    },
    {
      "cell_type": "markdown",
      "source": [
        "EN este notebook deberás realizar cada uno de los ejercicios utilizando Python dentro de los bloques de código, si alguna salida requiere la visualización mediante Latex escribe el bloque correspondiente."
      ],
      "metadata": {
        "id": "OWBcJp7z9U8G"
      }
    },
    {
      "cell_type": "code",
      "source": [
        "!pip install --target=$nb_path nacal\n",
        "from nacal import *"
      ],
      "metadata": {
        "id": "Ys78Cz-fMBbR",
        "outputId": "0668a446-53b0-4ce1-a935-619c9a0b530d",
        "colab": {
          "base_uri": "https://localhost:8080/"
        }
      },
      "execution_count": null,
      "outputs": [
        {
          "output_type": "stream",
          "name": "stdout",
          "text": [
            "Collecting nacal\n",
            "  Downloading nacal-0.2.1-py3-none-any.whl (40 kB)\n",
            "\u001b[?25l     \u001b[90m━━━━━━━━━━━━━━━━━━━━━━━━━━━━━━━━━━━━━━━━\u001b[0m \u001b[32m0.0/40.0 kB\u001b[0m \u001b[31m?\u001b[0m eta \u001b[36m-:--:--\u001b[0m\r\u001b[2K     \u001b[91m━━━━━━━━━━━━━━━━━━━━━━━━━━━━━━\u001b[0m\u001b[91m╸\u001b[0m\u001b[90m━━━━━━━━━\u001b[0m \u001b[32m30.7/40.0 kB\u001b[0m \u001b[31m771.5 kB/s\u001b[0m eta \u001b[36m0:00:01\u001b[0m\r\u001b[2K     \u001b[90m━━━━━━━━━━━━━━━━━━━━━━━━━━━━━━━━━━━━━━━━\u001b[0m \u001b[32m40.0/40.0 kB\u001b[0m \u001b[31m714.3 kB/s\u001b[0m eta \u001b[36m0:00:00\u001b[0m\n",
            "\u001b[?25hRequirement already satisfied: sympy>=1.1.0 in /usr/local/lib/python3.10/dist-packages (from nacal) (1.12.1)\n",
            "Requirement already satisfied: mpmath<1.4.0,>=1.1.0 in /usr/local/lib/python3.10/dist-packages (from sympy>=1.1.0->nacal) (1.3.0)\n",
            "Installing collected packages: nacal\n",
            "Successfully installed nacal-0.2.1\n"
          ]
        }
      ]
    },
    {
      "cell_type": "markdown",
      "metadata": {
        "id": "kXLRi02u_bK6"
      },
      "source": [
        "1. Genere los vectores $a$ y $ {b}$:\n",
        "\n",
        "-   el vector ${a}$ está formado por la lista de números: 1, 4, 9, 2, -5, π\n",
        "-   el vector ${b}$ está formado por la lista de números: 1, 2, 1, 0, 0.01,  $\\sqrt 2$\n",
        "-   súmelos"
      ]
    },
    {
      "cell_type": "code",
      "execution_count": null,
      "metadata": {
        "id": "7GzeUtyj8qwb",
        "outputId": "dde3c2e8-cf49-4368-bcbf-9d4cc44bbd45",
        "colab": {
          "base_uri": "https://localhost:8080/",
          "height": 46
        }
      },
      "outputs": [
        {
          "output_type": "execute_result",
          "data": {
            "text/plain": [
              "Vector([1, 4, 9, 2, -5, 3.1416])"
            ],
            "text/html": [
              "<p style=\"text-align:center;\">$\\begin{pmatrix}1\\\\ 4\\\\ 9\\\\ 2\\\\ -5\\\\ 3.1416\\end{pmatrix}$</p>"
            ],
            "image/png": "$\\begin{pmatrix}1\\\\ 4\\\\ 9\\\\ 2\\\\ -5\\\\ 3.1416\\end{pmatrix}$",
            "text/latex": "$\\begin{pmatrix}1\\\\ 4\\\\ 9\\\\ 2\\\\ -5\\\\ 3.1416\\end{pmatrix}$"
          },
          "metadata": {},
          "execution_count": 5
        }
      ],
      "source": [
        "a= Vector([1,4,9,2,-5,3.1416])\n",
        "a"
      ]
    },
    {
      "cell_type": "code",
      "source": [
        "b= Vector ([1,2,1,0,0.01,1])\n",
        "b"
      ],
      "metadata": {
        "id": "DyQJCdwAMsJN",
        "outputId": "dc046dfa-50d3-4fbd-a362-7a717466d68c",
        "colab": {
          "base_uri": "https://localhost:8080/",
          "height": 46
        }
      },
      "execution_count": null,
      "outputs": [
        {
          "output_type": "execute_result",
          "data": {
            "text/plain": [
              "Vector([1, 2, 1, 0, 0.01, 1])"
            ],
            "text/html": [
              "<p style=\"text-align:center;\">$\\begin{pmatrix}1\\\\ 2\\\\ 1\\\\ 0\\\\ 0.01\\\\ 1\\end{pmatrix}$</p>"
            ],
            "image/png": "$\\begin{pmatrix}1\\\\ 2\\\\ 1\\\\ 0\\\\ 0.01\\\\ 1\\end{pmatrix}$",
            "text/latex": "$\\begin{pmatrix}1\\\\ 2\\\\ 1\\\\ 0\\\\ 0.01\\\\ 1\\end{pmatrix}$"
          },
          "metadata": {},
          "execution_count": 6
        }
      ]
    },
    {
      "cell_type": "code",
      "source": [
        "print(a+b)"
      ],
      "metadata": {
        "id": "TqR5czppNGhC",
        "outputId": "1f9c3f4c-1292-4174-aab3-11066d8a3445",
        "colab": {
          "base_uri": "https://localhost:8080/"
        }
      },
      "execution_count": null,
      "outputs": [
        {
          "output_type": "stream",
          "name": "stdout",
          "text": [
            "(2, 6, 10, 2, -4.99000000000000, 4.14160000000000,)\n"
          ]
        }
      ]
    },
    {
      "cell_type": "markdown",
      "metadata": {
        "id": "6FIT3apxOYdq"
      },
      "source": [
        "2. Proporcione ejemplos de matrices 3 por 3 no nulas de los siguientes\n",
        "tipos de matrices:\n",
        "\n",
        "-   Una matriz diagonal\n",
        "\n"
      ]
    },
    {
      "cell_type": "code",
      "source": [
        "y= Vector ([2,0,0])\n",
        "x= Vector ([0,5,0])\n",
        "z= Vector ([0,0,3])\n",
        "D= Matrix ([y,x,z])\n",
        "print(D)"
      ],
      "metadata": {
        "id": "i9B8dsF4NM7m",
        "outputId": "b2fc1af4-a711-4c88-eb67-9fc1c55fbfe2",
        "colab": {
          "base_uri": "https://localhost:8080/"
        }
      },
      "execution_count": null,
      "outputs": [
        {
          "output_type": "stream",
          "name": "stdout",
          "text": [
            "|2 0 0|\n",
            "|0 5 0|\n",
            "|0 0 3|\n"
          ]
        }
      ]
    },
    {
      "cell_type": "markdown",
      "metadata": {
        "id": "WMMsUBTtOYdq"
      },
      "source": [
        "-   Una matriz simétrica\n",
        "\n"
      ]
    },
    {
      "cell_type": "code",
      "execution_count": null,
      "metadata": {
        "id": "a7YW_5VFOYdq",
        "outputId": "ca1e36d9-130a-4d08-dab2-3ab626b4609a",
        "colab": {
          "base_uri": "https://localhost:8080/",
          "height": 98
        }
      },
      "outputs": [
        {
          "output_type": "stream",
          "name": "stdout",
          "text": [
            "|1 4 9|\n",
            "|4 2 5|\n",
            "|9 5 3|\n"
          ]
        },
        {
          "output_type": "execute_result",
          "data": {
            "text/plain": [
              "Matrix([Vector([1, 4, 9]), Vector([4, 2, 5]), Vector([9, 5, 3])])"
            ],
            "text/html": [
              "<p style=\"text-align:center;\">$\\left[ \\begin{array}{ccc}1&4&9\\\\4&2&5\\\\9&5&3\\\\ \\end{array} \\right]$</p>"
            ],
            "image/png": "$\\left[ \\begin{array}{ccc}1&4&9\\\\4&2&5\\\\9&5&3\\\\ \\end{array} \\right]$",
            "text/latex": "$\\left[ \\begin{array}{ccc}1&4&9\\\\4&2&5\\\\9&5&3\\\\ \\end{array} \\right]$"
          },
          "metadata": {},
          "execution_count": 10
        }
      ],
      "source": [
        "x = Vector ([1,4,9])\n",
        "y = Vector ([4,2,5])\n",
        "z = Vector ([9,5,3])\n",
        "D = Matrix ([x,y,z])\n",
        "print(S)\n",
        "D"
      ]
    },
    {
      "cell_type": "markdown",
      "metadata": {
        "id": "roLWrzwXj1X6"
      },
      "source": [
        "3. Cree la matriz\n",
        "$${A}=\\begin{bmatrix}1&0&0&-1\\\\2&0&7&0\\\\-4&3&3&0\\\\0&3&4&1\\\\7&1&2&1\\end{bmatrix}$$\n",
        "\n"
      ]
    },
    {
      "cell_type": "code",
      "source": [
        "x= Vector ([1,2,-4,0,7])\n",
        "y= Vector ([0,0,3,3,1])\n",
        "z= Vector ([0,7,3,4,2])\n",
        "i= Vector ([-1,0,0,1,1])\n",
        "A= Matrix([x,y,z,i])\n",
        "print(A)"
      ],
      "metadata": {
        "id": "0g5fvRAdO4ri",
        "outputId": "2bf7df0f-801f-47b3-dce9-56b4c50dd5df",
        "colab": {
          "base_uri": "https://localhost:8080/"
        }
      },
      "execution_count": null,
      "outputs": [
        {
          "output_type": "stream",
          "name": "stdout",
          "text": [
            "| 1  0  0 -1|\n",
            "| 2  0  7  0|\n",
            "|-4  3  3  0|\n",
            "| 0  3  4  1|\n",
            "| 7  1  2  1|\n"
          ]
        }
      ]
    },
    {
      "cell_type": "markdown",
      "metadata": {
        "id": "96CPH5a_j1X9"
      },
      "source": [
        "Calcule el siguiente vector: 3 veces la primera columna de $A$\n",
        "mas la segunda columna de $A$ menos 2 veces la tercera columna\n",
        "menos 3 veces la última columna de $A$\n",
        "\n"
      ]
    },
    {
      "cell_type": "code",
      "execution_count": null,
      "metadata": {
        "id": "DLRtU4HDOYdq",
        "outputId": "161446ca-ff32-4b6a-ca43-e11728c01c25",
        "colab": {
          "base_uri": "https://localhost:8080/"
        }
      },
      "outputs": [
        {
          "output_type": "stream",
          "name": "stdout",
          "text": [
            "(-7, -3, -13, -6,)\n"
          ]
        }
      ],
      "source": [
        "print(((3*(1|A))-(2|A)+(2*(3|A)-(3*(4|A)))))"
      ]
    },
    {
      "cell_type": "markdown",
      "metadata": {
        "ein.tags": "worksheet-0",
        "id": "kjhE4PPdWKYI"
      },
      "source": [
        "4. Matriz por vector (combinaciones lineales de las columnas de una matriz)\n",
        "\n",
        "Considere los vectores ${x}=(1, 1, -2)$, ${y}=(1, -2, 1)$\n",
        "\n",
        "y\n",
        "${z}=(-2, 1, 1)$ y verifique que\n",
        "$2{x}+2{y}+2{z}={0}$\n",
        "\n",
        "que resultado da : $4x+4y+4z$\n",
        "\n",
        "y que resultado da:  $-3x-3y-3z$"
      ]
    },
    {
      "cell_type": "code",
      "source": [
        "x= Vector([1,1,-2])\n",
        "y= Vector([1,-2,1])\n",
        "z= Vector([-2,1,1])\n",
        "D= Matrix([x,y,z])\n",
        "print(D)"
      ],
      "metadata": {
        "id": "NeL0OXEqQpLF",
        "outputId": "395bbf2a-c347-4508-864e-f1d4ab9b8088",
        "colab": {
          "base_uri": "https://localhost:8080/"
        }
      },
      "execution_count": null,
      "outputs": [
        {
          "output_type": "stream",
          "name": "stdout",
          "text": [
            "| 1  1 -2|\n",
            "| 1 -2  1|\n",
            "|-2  1  1|\n"
          ]
        }
      ]
    },
    {
      "cell_type": "code",
      "source": [
        "print((2*(1|D))+(2*(2|D))+(2*(3|D)))"
      ],
      "metadata": {
        "id": "trhoL0MoRa3G",
        "outputId": "b2303c2e-b93b-477c-c7c4-61ff4fece2fe",
        "colab": {
          "base_uri": "https://localhost:8080/"
        }
      },
      "execution_count": null,
      "outputs": [
        {
          "output_type": "stream",
          "name": "stdout",
          "text": [
            "(0, 0, 0,)\n"
          ]
        }
      ]
    },
    {
      "cell_type": "code",
      "source": [
        "print(4*(1|D)+(4*(2|D))+(4*(3|D)))"
      ],
      "metadata": {
        "id": "whmraPXvSiJH",
        "outputId": "29c20527-7765-4a43-853c-74bf1a1ff7f3",
        "colab": {
          "base_uri": "https://localhost:8080/"
        }
      },
      "execution_count": null,
      "outputs": [
        {
          "output_type": "stream",
          "name": "stdout",
          "text": [
            "(0, 0, 0,)\n"
          ]
        }
      ]
    },
    {
      "cell_type": "code",
      "source": [
        "print(4*(1|D)-(4*(2|D))-(4*(3|D)))"
      ],
      "metadata": {
        "id": "iZ67Ez8cTzW0",
        "outputId": "ef7e70ff-7800-42cd-da56-7a9fcb0997dd",
        "colab": {
          "base_uri": "https://localhost:8080/"
        }
      },
      "execution_count": null,
      "outputs": [
        {
          "output_type": "stream",
          "name": "stdout",
          "text": [
            "(8, 8, -16,)\n"
          ]
        }
      ]
    },
    {
      "cell_type": "markdown",
      "metadata": {
        "ein.tags": "worksheet-0",
        "id": "_38hNp-wcDuB"
      },
      "source": [
        "5. Escribe una matriz C del mismo orden que A y verifica que\n",
        "$$\n",
        "({A}{C})^T={C}^T{A}^T\n",
        "$$"
      ]
    },
    {
      "cell_type": "code",
      "source": [
        "x= Vector ([2,3,-5,0,6])\n",
        "y= Vector ([0,0,5,5,2])\n",
        "z= Vector ([0,8,4,4,3])\n",
        "i= Vector ([-2,0,0,2,2])\n",
        "B= Matrix([x,y,z,i])\n",
        "print(B)"
      ],
      "metadata": {
        "id": "frH6ZOYnmErd",
        "outputId": "928f2d57-a576-4f4f-aba4-be2e2b18424c",
        "colab": {
          "base_uri": "https://localhost:8080/"
        }
      },
      "execution_count": null,
      "outputs": [
        {
          "output_type": "stream",
          "name": "stdout",
          "text": [
            "| 2  0  0 -2|\n",
            "| 3  0  8  0|\n",
            "|-5  5  4  0|\n",
            "| 0  5  4  2|\n",
            "| 6  2  3  2|\n"
          ]
        }
      ]
    },
    {
      "cell_type": "markdown",
      "metadata": {
        "ein.tags": "worksheet-0",
        "id": "Hin_mRv6cDtt"
      },
      "source": [
        "6. Verifique que\n",
        "$\n",
        "{A}{I}={A}\n",
        "$\n",
        "y que\n",
        "$\n",
        "{I}{A}={A}\n",
        "$"
      ]
    },
    {
      "cell_type": "code",
      "execution_count": null,
      "metadata": {
        "autoscroll": false,
        "ein.hycell": false,
        "ein.tags": "worksheet-0",
        "id": "8dfGpxIdcDtt"
      },
      "outputs": [],
      "source": []
    },
    {
      "cell_type": "markdown",
      "source": [
        "7. Producto punto\n",
        "Considere los vectores ${x}=(1, 1, -2)$, ${y}=(1, -2, 1)$\n",
        "calcula el producto punto"
      ],
      "metadata": {
        "id": "aHZ16S1peAeY"
      }
    },
    {
      "cell_type": "code",
      "source": [],
      "metadata": {
        "id": "QPfhac1geMQK"
      },
      "execution_count": null,
      "outputs": []
    }
  ]
}