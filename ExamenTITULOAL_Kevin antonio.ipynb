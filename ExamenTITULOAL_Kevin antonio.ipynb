{
  "nbformat": 4,
  "nbformat_minor": 0,
  "metadata": {
    "colab": {
      "provenance": [],
      "include_colab_link": true
    },
    "kernelspec": {
      "name": "python3",
      "display_name": "Python 3"
    },
    "language_info": {
      "name": "python"
    }
  },
  "cells": [
    {
      "cell_type": "markdown",
      "metadata": {
        "id": "view-in-github",
        "colab_type": "text"
      },
      "source": [
        "<a href=\"https://colab.research.google.com/github/Kevin-anto/tareas-algrebra/blob/main/ExamenTITULOAL_Kevin%20antonio.ipynb\" target=\"_parent\"><img src=\"https://colab.research.google.com/assets/colab-badge.svg\" alt=\"Open In Colab\"/></a>"
      ]
    },
    {
      "cell_type": "markdown",
      "source": [
        "## Algebra Lineal\n",
        "\n",
        "### 1er examen parcial"
      ],
      "metadata": {
        "id": "m93nhBA98vRW"
      }
    },
    {
      "cell_type": "code",
      "source": [
        "!pip install --target=$nb_path nacal\n",
        "from nacal import *"
      ],
      "metadata": {
        "colab": {
          "base_uri": "https://localhost:8080/"
        },
        "id": "IM6FpQixTIn4",
        "outputId": "092f4580-cb0b-4323-8759-2b55acece065"
      },
      "execution_count": 1,
      "outputs": [
        {
          "output_type": "stream",
          "name": "stdout",
          "text": [
            "Collecting nacal\n",
            "  Downloading nacal-0.2.1-py3-none-any.whl (40 kB)\n",
            "\u001b[2K     \u001b[90m━━━━━━━━━━━━━━━━━━━━━━━━━━━━━━━━━━━━━━━━\u001b[0m \u001b[32m40.0/40.0 kB\u001b[0m \u001b[31m446.1 kB/s\u001b[0m eta \u001b[36m0:00:00\u001b[0m\n",
            "\u001b[?25hRequirement already satisfied: sympy>=1.1.0 in /usr/local/lib/python3.10/dist-packages (from nacal) (1.13.0)\n",
            "Requirement already satisfied: mpmath<1.4,>=1.1.0 in /usr/local/lib/python3.10/dist-packages (from sympy>=1.1.0->nacal) (1.3.0)\n",
            "Installing collected packages: nacal\n",
            "Successfully installed nacal-0.2.1\n"
          ]
        }
      ]
    },
    {
      "cell_type": "markdown",
      "source": [
        "EN este notebook deberás realizar cada uno de los ejercicios utilizando Python dentro de los bloques de código, si alguna salida requiere la visualización mediante Latex escribe el bloque correspondiente."
      ],
      "metadata": {
        "id": "OWBcJp7z9U8G"
      }
    },
    {
      "cell_type": "code",
      "source": [
        "#import math library\n",
        "import math"
      ],
      "metadata": {
        "id": "_UBZ51EvZWLK"
      },
      "execution_count": 4,
      "outputs": []
    },
    {
      "cell_type": "markdown",
      "metadata": {
        "id": "kXLRi02u_bK6"
      },
      "source": [
        "1. Genere los vectores $a$ y $ {b}$:\n",
        "\n",
        "-   el vector ${a}$ está formado por la lista de números: 1, $\\frac{1}{3}$, -5, π\n",
        "-   el vector ${b}$ está formado por la lista de números: 1, $\\frac{2}{3}$, 0.01,  $\\sqrt 2$\n",
        "-   súmelos"
      ]
    },
    {
      "cell_type": "code",
      "execution_count": 8,
      "metadata": {
        "id": "7GzeUtyj8qwb",
        "colab": {
          "base_uri": "https://localhost:8080/"
        },
        "outputId": "f72fed77-d2dd-461e-b71d-9092db62c7d3"
      },
      "outputs": [
        {
          "output_type": "stream",
          "name": "stdout",
          "text": [
            "(2, 1.00000000000000, -4.99000000000000, 4.55580621596289,)\n"
          ]
        }
      ],
      "source": [
        "a= Vector ([1,(fracc(1,3)),-5,math.pi])\n",
        "b= Vector([1,2/3,0.01,math.sqrt(2)])\n",
        "print (a+b)"
      ]
    },
    {
      "cell_type": "markdown",
      "metadata": {
        "id": "6FIT3apxOYdq"
      },
      "source": [
        "2. Proporcione ejemplos de matrices 3 por 3 no nulas de los siguientes\n",
        "tipos de matrices:\n",
        "\n",
        "-   Una matriz diagonal\n",
        "\n"
      ]
    },
    {
      "cell_type": "code",
      "source": [
        "a= Vector([1,0,0])\n",
        "b= Vector([0,2,0])\n",
        "c= Vector([0,0,3])\n",
        "D= Matrix ([a,b,c])\n",
        "print(D)"
      ],
      "metadata": {
        "colab": {
          "base_uri": "https://localhost:8080/"
        },
        "id": "RvXIZck6Z8Ox",
        "outputId": "dcf6ac37-5c13-48e9-bf19-5db712507216"
      },
      "execution_count": 9,
      "outputs": [
        {
          "output_type": "stream",
          "name": "stdout",
          "text": [
            "|1 0 0|\n",
            "|0 2 0|\n",
            "|0 0 3|\n"
          ]
        }
      ]
    },
    {
      "cell_type": "markdown",
      "metadata": {
        "id": "WMMsUBTtOYdq"
      },
      "source": [
        "-   Una matriz simétrica\n",
        "\n"
      ]
    },
    {
      "cell_type": "code",
      "execution_count": 10,
      "metadata": {
        "id": "a7YW_5VFOYdq",
        "colab": {
          "base_uri": "https://localhost:8080/"
        },
        "outputId": "31022029-c6a7-4035-9a24-052cc04429fa"
      },
      "outputs": [
        {
          "output_type": "stream",
          "name": "stdout",
          "text": [
            "|1 2 3|\n",
            "|2 4 5|\n",
            "|3 5 6|\n"
          ]
        }
      ],
      "source": [
        "a= Vector([1,2,3])\n",
        "b= Vector([2,4,5])\n",
        "c= Vector([3,5,6])\n",
        "D=Matrix([a,b,c])\n",
        "print(D)"
      ]
    },
    {
      "cell_type": "markdown",
      "metadata": {
        "id": "roLWrzwXj1X6"
      },
      "source": [
        "3. Cree la matriz\n",
        "$${A}=\\begin{bmatrix}1&0&0&7\\\\2&0&7&6\\\\-4&3&3&5\\\\0&3&4&-1\\end{bmatrix}$$\n",
        "\n"
      ]
    },
    {
      "cell_type": "code",
      "source": [
        "s= Vector([1,2,-4,0])\n",
        "e= Vector([0,0,3,3])\n",
        "f= Vector([0,7,3,4])\n",
        "r= Vector([7,6,5,-1])\n",
        "A= Matrix([s,e,f,r])\n",
        "print(A)"
      ],
      "metadata": {
        "colab": {
          "base_uri": "https://localhost:8080/"
        },
        "id": "twcAyXu9brvx",
        "outputId": "b19867b2-fe73-4d6b-fcd9-73497f9d244c"
      },
      "execution_count": 11,
      "outputs": [
        {
          "output_type": "stream",
          "name": "stdout",
          "text": [
            "| 1  0  0  7|\n",
            "| 2  0  7  6|\n",
            "|-4  3  3  5|\n",
            "| 0  3  4 -1|\n"
          ]
        }
      ]
    },
    {
      "cell_type": "markdown",
      "metadata": {
        "id": "96CPH5a_j1X9"
      },
      "source": [
        "Calcule el siguiente vector: 3 veces la primera columna de $A$\n",
        "mas la segunda columna de $A$ menos 2 veces la tercera columna\n",
        "menos 3 veces la última columna de $A$\n",
        "\n"
      ]
    },
    {
      "cell_type": "code",
      "execution_count": 12,
      "metadata": {
        "id": "DLRtU4HDOYdq",
        "colab": {
          "base_uri": "https://localhost:8080/"
        },
        "outputId": "d2168359-75c3-4bad-abe3-508869178d15"
      },
      "outputs": [
        {
          "output_type": "stream",
          "name": "stdout",
          "text": [
            "(13, 3, 13, 14,)\n"
          ]
        }
      ],
      "source": [
        "print(((3*(1|A))+(2|A)-(2*(3|A)-(3*(4|A)))))"
      ]
    },
    {
      "cell_type": "markdown",
      "metadata": {
        "ein.tags": "worksheet-0",
        "id": "Hin_mRv6cDtt"
      },
      "source": [
        "**4**.Genera la matriz identidad  I de rango 4 y 10\n"
      ]
    },
    {
      "cell_type": "code",
      "execution_count": null,
      "metadata": {
        "autoscroll": false,
        "ein.hycell": false,
        "ein.tags": "worksheet-0",
        "id": "8dfGpxIdcDtt"
      },
      "outputs": [],
      "source": []
    },
    {
      "cell_type": "markdown",
      "source": [
        "5. Producto punto\n",
        "Considere los vectores ${x}=(1, 1, -2)$, ${y}=(1, -2, 1)$\n",
        "calcula el producto punto"
      ],
      "metadata": {
        "id": "aHZ16S1peAeY"
      }
    },
    {
      "cell_type": "code",
      "source": [
        "x = [1, 1, -2]\n",
        "y = [1, -2, 1]\n",
        "\n",
        "\n",
        "producto_punto = sum(a*b for a, b in zip(x, y))\n",
        "\n",
        "print(producto_punto)"
      ],
      "metadata": {
        "id": "QPfhac1geMQK",
        "colab": {
          "base_uri": "https://localhost:8080/"
        },
        "outputId": "d2037d45-7a3e-4ba8-c689-46b5b9a29b42"
      },
      "execution_count": 15,
      "outputs": [
        {
          "output_type": "stream",
          "name": "stdout",
          "text": [
            "-3\n"
          ]
        }
      ]
    },
    {
      "cell_type": "markdown",
      "source": [
        "6. Para la siguiente matriz $$\\left[ \\begin{array}{cccc}3&-2&2\\\\1&-1&-1\\\\2&1&2\\\\ \\end{array} \\right]$$ lleva a cabo el algoritmo de eliminación paso a paso.\n",
        "\n",
        "Escribe en una celda separada cada operacion elemental."
      ],
      "metadata": {
        "id": "hBXBxw0VcrAh"
      }
    },
    {
      "cell_type": "code",
      "source": [
        "a= Vector([3,1,2])\n",
        "b= Vector([-2,-1,1])\n",
        "c= Vector([2,-1,2])\n",
        "D= Matrix([a,b,c])\n",
        "print(D)"
      ],
      "metadata": {
        "colab": {
          "base_uri": "https://localhost:8080/"
        },
        "id": "KTOVUMyPiaL-",
        "outputId": "1fd950e6-00be-4303-ca36-4705ab35be1c"
      },
      "execution_count": 24,
      "outputs": [
        {
          "output_type": "stream",
          "name": "stdout",
          "text": [
            "| 3 -2  2|\n",
            "| 1 -1 -1|\n",
            "| 2  1  2|\n"
          ]
        }
      ]
    },
    {
      "cell_type": "code",
      "source": [
        "A&T((fracc(1,3),1))"
      ],
      "metadata": {
        "colab": {
          "base_uri": "https://localhost:8080/",
          "height": 46
        },
        "id": "UHyGzlgci6mE",
        "outputId": "3f28d6a6-d02a-4e0b-deef-a69741b3221c"
      },
      "execution_count": 33,
      "outputs": [
        {
          "output_type": "execute_result",
          "data": {
            "text/plain": [
              "Matrix([Vector([1/6561, 2/6561, -4/6561, 0]), Vector([0, 0, 3, 3]), Vector([0, 7, 3, 4]), Vector([7, 6, 5, -1])])"
            ],
            "text/html": [
              "<p style=\"text-align:center;\">$\\left[ \\begin{array}{cccc}\\frac{1}{6561}&0&0&7\\\\\\frac{2}{6561}&0&7&6\\\\- \\frac{4}{6561}&3&3&5\\\\0&3&4&-1\\\\ \\end{array} \\right]$</p>"
            ],
            "image/png": "$\\left[ \\begin{array}{cccc}\\frac{1}{6561}&0&0&7\\\\\\frac{2}{6561}&0&7&6\\\\- \\frac{4}{6561}&3&3&5\\\\0&3&4&-1\\\\ \\end{array} \\right]$",
            "text/latex": "$\\left[ \\begin{array}{cccc}\\frac{1}{6561}&0&0&7\\\\\\frac{2}{6561}&0&7&6\\\\- \\frac{4}{6561}&3&3&5\\\\0&3&4&-1\\\\ \\end{array} \\right]$"
          },
          "metadata": {},
          "execution_count": 33
        }
      ]
    },
    {
      "cell_type": "markdown",
      "source": [
        "7. Escriba las siguientes matrices elementales de orden 4.\n",
        "\n",
        "\n",
        "(a) I τ\n",
        "[(−2)1+3]\n",
        "\n",
        "(b) I τ\n",
        "[(0.5)1+4]\n",
        "\n",
        "(c) I τ\n",
        "[(-3)2+1]\n",
        "\n",
        "(d) I τ\n",
        "[(−10)3]"
      ],
      "metadata": {
        "id": "2wXEkEH9hXGe"
      }
    },
    {
      "cell_type": "code",
      "source": [
        "import numpy as np\n"
      ],
      "metadata": {
        "id": "z5QANrgnfmjE"
      },
      "execution_count": 16,
      "outputs": []
    },
    {
      "cell_type": "code",
      "source": [
        "I = np.eye(4)"
      ],
      "metadata": {
        "id": "X14g96rggEjt"
      },
      "execution_count": 18,
      "outputs": []
    },
    {
      "cell_type": "markdown",
      "source": [
        "matriz elemental a"
      ],
      "metadata": {
        "id": "2oiYV1GZfrSD"
      }
    },
    {
      "cell_type": "code",
      "source": [
        "E1 = I.copy()\n",
        "E1[2, 2] = -2\n",
        "print(\"Matriz elemental (a):\")\n",
        "print(E1)\n",
        "print()"
      ],
      "metadata": {
        "colab": {
          "base_uri": "https://localhost:8080/"
        },
        "id": "SIWOgzrtf1Q8",
        "outputId": "abad663a-8d82-4247-f497-fc14f24ac579"
      },
      "execution_count": 19,
      "outputs": [
        {
          "output_type": "stream",
          "name": "stdout",
          "text": [
            "Matriz elemental (a):\n",
            "[[ 1.  0.  0.  0.]\n",
            " [ 0.  1.  0.  0.]\n",
            " [ 0.  0. -2.  0.]\n",
            " [ 0.  0.  0.  1.]]\n",
            "\n"
          ]
        }
      ]
    },
    {
      "cell_type": "markdown",
      "source": [
        "matriz elemental b"
      ],
      "metadata": {
        "id": "AEvAEWLSgM6o"
      }
    },
    {
      "cell_type": "code",
      "source": [
        "E2 = I.copy()\n",
        "E2[3, 3] = 0.5\n",
        "print(\"Matriz elemental (b):\")\n",
        "print(E2)\n",
        "print()"
      ],
      "metadata": {
        "colab": {
          "base_uri": "https://localhost:8080/"
        },
        "id": "2CI25-VEgO7I",
        "outputId": "867a3aa0-fda7-4309-ca5c-f4729bbbf0a1"
      },
      "execution_count": 20,
      "outputs": [
        {
          "output_type": "stream",
          "name": "stdout",
          "text": [
            "Matriz elemental (b):\n",
            "[[1.  0.  0.  0. ]\n",
            " [0.  1.  0.  0. ]\n",
            " [0.  0.  1.  0. ]\n",
            " [0.  0.  0.  0.5]]\n",
            "\n"
          ]
        }
      ]
    },
    {
      "cell_type": "markdown",
      "source": [
        "matriz elemental c"
      ],
      "metadata": {
        "id": "YGgphusQgVya"
      }
    },
    {
      "cell_type": "code",
      "source": [
        "E3 = I.copy()\n",
        "E3[0, 1] = -3\n",
        "print(\"Matriz elemental (c):\")\n",
        "print(E3)\n",
        "print()"
      ],
      "metadata": {
        "colab": {
          "base_uri": "https://localhost:8080/"
        },
        "id": "uLvWzqgvgY0C",
        "outputId": "72c15a6c-2367-49a1-ebdb-cff8a5026c3f"
      },
      "execution_count": 21,
      "outputs": [
        {
          "output_type": "stream",
          "name": "stdout",
          "text": [
            "Matriz elemental (c):\n",
            "[[ 1. -3.  0.  0.]\n",
            " [ 0.  1.  0.  0.]\n",
            " [ 0.  0.  1.  0.]\n",
            " [ 0.  0.  0.  1.]]\n",
            "\n"
          ]
        }
      ]
    },
    {
      "cell_type": "markdown",
      "source": [
        "matriz elemental d"
      ],
      "metadata": {
        "id": "5tDpBH2wgpJU"
      }
    },
    {
      "cell_type": "code",
      "source": [
        "E4 = I.copy()\n",
        "E4[2, 2] = -10\n",
        "print(\"Matriz elemental (d):\")\n",
        "print(E4)\n",
        "print()"
      ],
      "metadata": {
        "colab": {
          "base_uri": "https://localhost:8080/"
        },
        "id": "cxdcHvdZgrX6",
        "outputId": "b71c2cd3-8618-4c1a-8bb7-3bee9a02ef74"
      },
      "execution_count": 22,
      "outputs": [
        {
          "output_type": "stream",
          "name": "stdout",
          "text": [
            "Matriz elemental (d):\n",
            "[[  1.   0.   0.   0.]\n",
            " [  0.   1.   0.   0.]\n",
            " [  0.   0. -10.   0.]\n",
            " [  0.   0.   0.   1.]]\n",
            "\n"
          ]
        }
      ]
    },
    {
      "cell_type": "markdown",
      "source": [
        "8. Realiza el algoritmo de eliminación de Gauss-Jordan para la matriz del ejercicio 6, es decir continua las modificaciones de la matriz mediante operaciones elementales.\n",
        "Por cada paso del algoritmo escribe la celda de código correspondiente."
      ],
      "metadata": {
        "id": "NRMqK0VmB6px"
      }
    },
    {
      "cell_type": "markdown",
      "source": [
        "9. Encuentra la inversa de la matriz del ejercicio 6."
      ],
      "metadata": {
        "id": "2F3XtwbpIhOO"
      }
    },
    {
      "cell_type": "code",
      "source": [
        "a= Vector([3,1,2,0,0,0])\n",
        "b= Vector([-2,-1,1,1,0,0])\n",
        "c= Vector([2,-1,2,0,1,0])\n",
        "D= Matrix([a,b,c])\n",
        "print (D)"
      ],
      "metadata": {
        "colab": {
          "base_uri": "https://localhost:8080/"
        },
        "id": "sMwUcIIAp4X3",
        "outputId": "a4f15eef-031d-4596-e23c-3ee7cbf78138"
      },
      "execution_count": 47,
      "outputs": [
        {
          "output_type": "stream",
          "name": "stdout",
          "text": [
            "| 3 -2  2|\n",
            "| 1 -1 -1|\n",
            "| 2  1  2|\n",
            "| 0  1  0|\n",
            "| 0  0  1|\n",
            "| 0  0  0|\n"
          ]
        }
      ]
    },
    {
      "cell_type": "markdown",
      "source": [
        "10. Resuelva el siguiente sistema de ecuaciones:\n",
        "\n",
        "$$ \\begin{array}{ccc}5x&+7y&-z&=6\\\\2x&+10y&-2z&=4\\\\x&+y&+z&=0\\\\ \\end{array} $$"
      ],
      "metadata": {
        "id": "tABrI61xarPE"
      }
    },
    {
      "cell_type": "code",
      "source": [
        "E=Matrix([[5,7,-1],[2,10,-2],[1,1,1]])\n",
        "print (E)"
      ],
      "metadata": {
        "colab": {
          "base_uri": "https://localhost:8080/"
        },
        "id": "e-JlDPGill7j",
        "outputId": "494becc8-0c53-400b-81fb-022c1bdde387"
      },
      "execution_count": 35,
      "outputs": [
        {
          "output_type": "stream",
          "name": "stdout",
          "text": [
            "| 5  7 -1|\n",
            "| 2 10 -2|\n",
            "| 1  1  1|\n"
          ]
        }
      ]
    },
    {
      "cell_type": "code",
      "source": [
        "S=Matrix ([[5,7,-1,6],[2,10,-2,4],[1,1,1,0]])\n",
        "print(S)"
      ],
      "metadata": {
        "colab": {
          "base_uri": "https://localhost:8080/"
        },
        "id": "0I7Km4GtmNh_",
        "outputId": "d77b563e-6faf-4326-96a9-76080b9b7bf2"
      },
      "execution_count": 37,
      "outputs": [
        {
          "output_type": "stream",
          "name": "stdout",
          "text": [
            "| 5  7 -1  6|\n",
            "| 2 10 -2  4|\n",
            "| 1  1  1  0|\n"
          ]
        }
      ]
    },
    {
      "cell_type": "code",
      "source": [
        "T((fracc(-1,2) ,2))&S\n",
        "T((1, 2, 3))&S\n",
        "T((fracc (- 1, 5),2))&S\n",
        "T ((4, 2, 3))&S\n",
        "T((fracc (1, 5) ,1))&S\n"
      ],
      "metadata": {
        "colab": {
          "base_uri": "https://localhost:8080/",
          "height": 64
        },
        "id": "6o_rYBG7mRlo",
        "outputId": "8d31b8a3-5d89-41ae-8a24-bd7cba71f03e"
      },
      "execution_count": 46,
      "outputs": [
        {
          "output_type": "execute_result",
          "data": {
            "text/plain": [
              "Matrix([Vector([-11/12500, 139/100000, 64771/100000]), Vector([37/12500, -33/100000, -13737/100000]), Vector([-13/2500, 49/20000, 21561/20000]), Vector([27/6250, -53/50000, -21517/50000])])"
            ],
            "text/html": [
              "<p style=\"text-align:center;\">$\\left[ \\begin{array}{cccc}- \\frac{11}{12500}&\\frac{37}{12500}&- \\frac{13}{2500}&\\frac{27}{6250}\\\\\\frac{139}{100000}&- \\frac{33}{100000}&\\frac{49}{20000}&- \\frac{53}{50000}\\\\\\frac{64771}{100000}&- \\frac{13737}{100000}&\\frac{21561}{20000}&- \\frac{21517}{50000}\\\\ \\end{array} \\right]$</p>"
            ],
            "image/png": "$\\left[ \\begin{array}{cccc}- \\frac{11}{12500}&\\frac{37}{12500}&- \\frac{13}{2500}&\\frac{27}{6250}\\\\\\frac{139}{100000}&- \\frac{33}{100000}&\\frac{49}{20000}&- \\frac{53}{50000}\\\\\\frac{64771}{100000}&- \\frac{13737}{100000}&\\frac{21561}{20000}&- \\frac{21517}{50000}\\\\ \\end{array} \\right]$",
            "text/latex": "$\\left[ \\begin{array}{cccc}- \\frac{11}{12500}&\\frac{37}{12500}&- \\frac{13}{2500}&\\frac{27}{6250}\\\\\\frac{139}{100000}&- \\frac{33}{100000}&\\frac{49}{20000}&- \\frac{53}{50000}\\\\\\frac{64771}{100000}&- \\frac{13737}{100000}&\\frac{21561}{20000}&- \\frac{21517}{50000}\\\\ \\end{array} \\right]$"
          },
          "metadata": {},
          "execution_count": 46
        }
      ]
    },
    {
      "cell_type": "code",
      "source": [
        "T((fracc (5, 6) ,3))&S\n",
        "T((fracc (1, 5) ,3,2))&S\n",
        "T((fracc (- 1, 3) ,1,2))&S\n",
        "T((fracc (- 2, 3) ,1,3))&S"
      ],
      "metadata": {
        "colab": {
          "base_uri": "https://localhost:8080/",
          "height": 64
        },
        "id": "ImcjqrdunJxv",
        "outputId": "62761720-f6c2-4546-9258-789ebdaef5bd"
      },
      "execution_count": 42,
      "outputs": [
        {
          "output_type": "execute_result",
          "data": {
            "text/plain": [
              "Matrix([Vector([1/25, 71/600, 373/600]), Vector([7/125, -27/1000, -129/1000]), Vector([-1/125, 613/3000, 3071/3000]), Vector([6/125, -43/500, -201/500])])"
            ],
            "text/html": [
              "<p style=\"text-align:center;\">$\\left[ \\begin{array}{cccc}\\frac{1}{25}&\\frac{7}{125}&- \\frac{1}{125}&\\frac{6}{125}\\\\\\frac{71}{600}&- \\frac{27}{1000}&\\frac{613}{3000}&- \\frac{43}{500}\\\\\\frac{373}{600}&- \\frac{129}{1000}&\\frac{3071}{3000}&- \\frac{201}{500}\\\\ \\end{array} \\right]$</p>"
            ],
            "image/png": "$\\left[ \\begin{array}{cccc}\\frac{1}{25}&\\frac{7}{125}&- \\frac{1}{125}&\\frac{6}{125}\\\\\\frac{71}{600}&- \\frac{27}{1000}&\\frac{613}{3000}&- \\frac{43}{500}\\\\\\frac{373}{600}&- \\frac{129}{1000}&\\frac{3071}{3000}&- \\frac{201}{500}\\\\ \\end{array} \\right]$",
            "text/latex": "$\\left[ \\begin{array}{cccc}\\frac{1}{25}&\\frac{7}{125}&- \\frac{1}{125}&\\frac{6}{125}\\\\\\frac{71}{600}&- \\frac{27}{1000}&\\frac{613}{3000}&- \\frac{43}{500}\\\\\\frac{373}{600}&- \\frac{129}{1000}&\\frac{3071}{3000}&- \\frac{201}{500}\\\\ \\end{array} \\right]$"
          },
          "metadata": {},
          "execution_count": 42
        }
      ]
    },
    {
      "cell_type": "code",
      "source": [
        "T((fracc(15,8),2))&S\n",
        "T((fracc(-7,5),2,1))&S\n",
        "T((fracc(14,15),2,3))&S\n",
        "T((fracc(4,5),3))&S"
      ],
      "metadata": {
        "colab": {
          "base_uri": "https://localhost:8080/",
          "height": 64
        },
        "id": "sLBnIDf6njB0",
        "outputId": "cbca9900-f932-40e8-d486-7b09529ac332"
      },
      "execution_count": 43,
      "outputs": [
        {
          "output_type": "execute_result",
          "data": {
            "text/plain": [
              "Matrix([Vector([-433/1600, 71/320, 663/1000]), Vector([203/1600, -81/1600, -141/1000]), Vector([-871/1600, 613/1600, 221/200]), Vector([219/800, -129/800, -221/500])])"
            ],
            "text/html": [
              "<p style=\"text-align:center;\">$\\left[ \\begin{array}{cccc}- \\frac{433}{1600}&\\frac{203}{1600}&- \\frac{871}{1600}&\\frac{219}{800}\\\\\\frac{71}{320}&- \\frac{81}{1600}&\\frac{613}{1600}&- \\frac{129}{800}\\\\\\frac{663}{1000}&- \\frac{141}{1000}&\\frac{221}{200}&- \\frac{221}{500}\\\\ \\end{array} \\right]$</p>"
            ],
            "image/png": "$\\left[ \\begin{array}{cccc}- \\frac{433}{1600}&\\frac{203}{1600}&- \\frac{871}{1600}&\\frac{219}{800}\\\\\\frac{71}{320}&- \\frac{81}{1600}&\\frac{613}{1600}&- \\frac{129}{800}\\\\\\frac{663}{1000}&- \\frac{141}{1000}&\\frac{221}{200}&- \\frac{221}{500}\\\\ \\end{array} \\right]$",
            "text/latex": "$\\left[ \\begin{array}{cccc}- \\frac{433}{1600}&\\frac{203}{1600}&- \\frac{871}{1600}&\\frac{219}{800}\\\\\\frac{71}{320}&- \\frac{81}{1600}&\\frac{613}{1600}&- \\frac{129}{800}\\\\\\frac{663}{1000}&- \\frac{141}{1000}&\\frac{221}{200}&- \\frac{221}{500}\\\\ \\end{array} \\right]$"
          },
          "metadata": {},
          "execution_count": 43
        }
      ]
    },
    {
      "cell_type": "code",
      "source": [
        "T((fracc (- 1, 8) ,3,2))&S\n",
        "T((fracc (3, 8) ,3,1))&S"
      ],
      "metadata": {
        "colab": {
          "base_uri": "https://localhost:8080/",
          "height": 64
        },
        "id": "E4LPam3hoH8g",
        "outputId": "9f518116-e6a9-4c78-c2c9-4fc850102565"
      },
      "execution_count": 44,
      "outputs": [
        {
          "output_type": "execute_result",
          "data": {
            "text/plain": [
              "Matrix([Vector([-11/500, 139/1000, 663/1000]), Vector([37/500, -33/1000, -141/1000]), Vector([-13/100, 49/200, 221/200]), Vector([27/250, -53/500, -221/500])])"
            ],
            "text/html": [
              "<p style=\"text-align:center;\">$\\left[ \\begin{array}{cccc}- \\frac{11}{500}&\\frac{37}{500}&- \\frac{13}{100}&\\frac{27}{250}\\\\\\frac{139}{1000}&- \\frac{33}{1000}&\\frac{49}{200}&- \\frac{53}{500}\\\\\\frac{663}{1000}&- \\frac{141}{1000}&\\frac{221}{200}&- \\frac{221}{500}\\\\ \\end{array} \\right]$</p>"
            ],
            "image/png": "$\\left[ \\begin{array}{cccc}- \\frac{11}{500}&\\frac{37}{500}&- \\frac{13}{100}&\\frac{27}{250}\\\\\\frac{139}{1000}&- \\frac{33}{1000}&\\frac{49}{200}&- \\frac{53}{500}\\\\\\frac{663}{1000}&- \\frac{141}{1000}&\\frac{221}{200}&- \\frac{221}{500}\\\\ \\end{array} \\right]$",
            "text/latex": "$\\left[ \\begin{array}{cccc}- \\frac{11}{500}&\\frac{37}{500}&- \\frac{13}{100}&\\frac{27}{250}\\\\\\frac{139}{1000}&- \\frac{33}{1000}&\\frac{49}{200}&- \\frac{53}{500}\\\\\\frac{663}{1000}&- \\frac{141}{1000}&\\frac{221}{200}&- \\frac{221}{500}\\\\ \\end{array} \\right]$"
          },
          "metadata": {},
          "execution_count": 44
        }
      ]
    }
  ]
}